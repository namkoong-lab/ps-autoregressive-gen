{
 "cells": [
  {
   "cell_type": "code",
   "execution_count": 3,
   "id": "cc505f83",
   "metadata": {},
   "outputs": [],
   "source": [
    "import os\n",
    "import torch\n",
    "import matplotlib.pyplot as plt\n",
    "plt.set_loglevel(level = 'warning')"
   ]
  },
  {
   "cell_type": "markdown",
   "id": "689196b3-0e3f-4cc3-a62d-e901491779f2",
   "metadata": {},
   "source": [
    "# Load Model Predictions"
   ]
  },
  {
   "cell_type": "code",
   "execution_count": 2,
   "id": "8041da2d",
   "metadata": {},
   "outputs": [],
   "source": [
    "base_dir = '/shared/share_mala/implicitbayes/dataset_files/synthetic_data/beta/N=500,D=25000,D_eval=10000,cnts=5/models/0423_synthetic_bb/'"
   ]
  },
  {
   "cell_type": "code",
   "execution_count": 4,
   "id": "c77eca79-1828-4dab-a46d-7cf18c9a0960",
   "metadata": {},
   "outputs": [],
   "source": [
    "model_paths = {\n",
    "    'seq_bb': base_dir+'/sequential:epochs=2000,bs=500,lr=0.001,wd=0.01,MLP_layers=3,MLP_width=100,weight_factor=1,max_obs=500,repeat_suffstat=10,Zdim=1,sched=constant,BB=True,alphabeta=True,seed=2340923'\n",
    "}"
   ]
  },
  {
   "cell_type": "code",
   "execution_count": 21,
   "id": "c08799ac-4d71-466d-bd10-8308e3511a9c",
   "metadata": {},
   "outputs": [
    {
     "data": {
      "text/plain": [
       "dict_keys(['seq_bb'])"
      ]
     },
     "execution_count": 21,
     "metadata": {},
     "output_type": "execute_result"
    }
   ],
   "source": [
    "prediction_dicts = {}\n",
    "for name, run_dir in model_paths.items():\n",
    "    preds = torch.load(run_dir + '/best_loss_predictions.pt')\n",
    "    prediction_dicts[name] = preds\n",
    "\n",
    "prediction_dicts.keys()"
   ]
  },
  {
   "cell_type": "code",
   "execution_count": 37,
   "id": "83342eea",
   "metadata": {},
   "outputs": [],
   "source": [
    "dataset = 'val'"
   ]
  },
  {
   "cell_type": "code",
   "execution_count": 38,
   "id": "d35651da-9118-4f6c-b7d3-20921a0e14d5",
   "metadata": {},
   "outputs": [],
   "source": [
    "from closed_form_models import BetaBernoulli"
   ]
  },
  {
   "cell_type": "code",
   "execution_count": 39,
   "id": "5f2bb6a3",
   "metadata": {},
   "outputs": [],
   "source": [
    "new_prediction_dicts = {}"
   ]
  },
  {
   "cell_type": "code",
   "execution_count": 40,
   "id": "7cc60246",
   "metadata": {},
   "outputs": [],
   "source": [
    "onekey = list(prediction_dicts.keys())[0]"
   ]
  },
  {
   "cell_type": "code",
   "execution_count": 41,
   "id": "0fd6fe39-2575-4ef2-b1c2-e68bdd6de982",
   "metadata": {},
   "outputs": [],
   "source": [
    "# BETA BERNOULLI MODELS =====================================================================================\n",
    "\n",
    "all_BB_models = {}\n",
    "\n",
    "\n",
    "# Standard beta comparison =============================\n",
    "prior_means_eval = preds[dataset]['theta_hats']\n",
    "true_means_train = preds['train']['click_rates']\n",
    "prior_dict = {\n",
    "                \"alpha\": prior_means_eval[:,0]*0+1,\n",
    "                \"beta\": prior_means_eval[:,0]*0+1,\n",
    "                }\n",
    "bb_model_eval_marginal = BetaBernoulli(prior_dict)\n",
    "obs_seq_eval = preds[dataset]['click_obs']\n",
    "post_alpha, post_beta = bb_model_eval_marginal.compute_posterior_seq(obs_seq_eval)\n",
    "post_means, post_vars = bb_model_eval_marginal.compute_post_mean_var(post_alpha, post_beta)\n",
    "\n",
    "new_prediction_dicts[f\"Beta-Bernoulli (Standard)\"] = { dataset : { \"theta_hats\": post_means,\n",
    "                                                        \"click_rates\": preds[dataset]['click_rates'].squeeze()\n",
    "                                                                        } }\n",
    "all_BB_models['Standard'] = bb_model_eval_marginal\n",
    "\n",
    "\n",
    "# Oracle beta comparison =============================\n",
    "Zvec = prediction_dicts[onekey][dataset]['Z']\n",
    "cnts=5\n",
    "alpha = Zvec*cnts+1\n",
    "beta = (1-Zvec)*cnts+1\n",
    "prior_dict = {\n",
    "                \"alpha\": alpha,\n",
    "                \"beta\": beta,\n",
    "                }\n",
    "bb_model_eval_marginal = BetaBernoulli(prior_dict)\n",
    "obs_seq_eval = preds[dataset]['click_obs']\n",
    "post_alpha, post_beta = bb_model_eval_marginal.compute_posterior_seq(obs_seq_eval)\n",
    "post_means, post_vars = bb_model_eval_marginal.compute_post_mean_var(post_alpha, post_beta)\n",
    "\n",
    "new_prediction_dicts[f\"Beta-Bernoulli (Oracle)\"] = { dataset : { \"theta_hats\": post_means,\n",
    "                                                        \"click_rates\": preds[dataset]['click_rates'].squeeze()\n",
    "                                                                        } }\n",
    "all_BB_models['Oracle'] = bb_model_eval_marginal\n",
    "\n",
    "all_prediction_dicts = {**prediction_dicts, **new_prediction_dicts}"
   ]
  },
  {
   "cell_type": "code",
   "execution_count": 42,
   "id": "94d16f95-e5b1-4d7f-9139-d05d91a1a03d",
   "metadata": {},
   "outputs": [
    {
     "name": "stdout",
     "output_type": "stream",
     "text": [
      "seq_bb\n",
      "Beta-Bernoulli (Standard)\n",
      "Beta-Bernoulli (Oracle)\n"
     ]
    }
   ],
   "source": [
    "# Process the prediction dictionaries\n",
    "model2predictions = {}\n",
    "for name, pred_dict in all_prediction_dicts.items():\n",
    "    print(name)\n",
    "    model2predictions[name] = {\n",
    "        'p_hats_eval': pred_dict[dataset]['theta_hats'],\n",
    "        'true_p_eval': pred_dict[dataset]['click_rates'].squeeze(),\n",
    "    }"
   ]
  },
  {
   "cell_type": "markdown",
   "id": "1f04f8b3-c70e-4242-97b7-198cb5bc3dbc",
   "metadata": {},
   "source": [
    "# Evaluate Model Predictions"
   ]
  },
  {
   "cell_type": "code",
   "execution_count": 28,
   "id": "3a462ca0-c104-42fd-a695-22037f760929",
   "metadata": {},
   "outputs": [],
   "source": [
    "import imp\n",
    "import eval_metrics_and_plotting\n",
    "from collections import defaultdict, OrderedDict\n",
    "imp.reload(eval_metrics_and_plotting)\n",
    "\n",
    "from eval_metrics_and_plotting import get_prediction_metric_values, make_plot_from_predictions"
   ]
  },
  {
   "cell_type": "code",
   "execution_count": 29,
   "id": "49b7d9e1-edb5-4871-9fb0-8e214f5f14c4",
   "metadata": {},
   "outputs": [
    {
     "data": {
      "text/plain": [
       "['seq_bb', 'Beta-Bernoulli (Standard)', 'Beta-Bernoulli (Oracle)']"
      ]
     },
     "execution_count": 29,
     "metadata": {},
     "output_type": "execute_result"
    }
   ],
   "source": [
    "all_plot_keys = [k for k in model2predictions.keys()]\n",
    "all_plot_keys"
   ]
  },
  {
   "cell_type": "markdown",
   "id": "7a5529c8-e76f-4238-ad01-a877aa1d434e",
   "metadata": {},
   "source": [
    "# Posterior Evaluation"
   ]
  },
  {
   "cell_type": "code",
   "execution_count": 14,
   "id": "af0b16c9-ce5f-441b-a1e2-9aa9847c82b4",
   "metadata": {},
   "outputs": [],
   "source": [
    "from eval_metrics_and_plotting import credible_interval_results, draw_posterior_samples_MIND\n",
    "\n",
    "all_posteriors_dict = {}\n",
    "all_num_prev_obs = [0]\n",
    "num_repetitions = 10000"
   ]
  },
  {
   "cell_type": "code",
   "execution_count": 15,
   "id": "188cdec6",
   "metadata": {},
   "outputs": [
    {
     "data": {
      "text/plain": [
       "dict_keys(['Standard', 'Oracle'])"
      ]
     },
     "execution_count": 15,
     "metadata": {},
     "output_type": "execute_result"
    }
   ],
   "source": [
    "all_BB_models.keys()"
   ]
  },
  {
   "cell_type": "code",
   "execution_count": 43,
   "id": "2af56f0f",
   "metadata": {},
   "outputs": [],
   "source": [
    "# Draw posterior samples from Beta-Bernoulli models ---------------------\n",
    "true_p_eval = model2predictions[all_plot_keys[0]]['true_p_eval']\n",
    "all_prev_obs = prediction_dicts[all_plot_keys[0]][dataset]['click_obs']\n",
    "\n",
    "for name, bbmodel in all_BB_models.items():\n",
    "    if name != 'Oracle': continue\n",
    "    all_posteriors_dict[name] = {}\n",
    "    for num_prev_obs in all_num_prev_obs:\n",
    "        prev_obs = all_prev_obs[:,:num_prev_obs]\n",
    "        posterior_samples = bbmodel.posterior_samples(prev_obs, num_repetitions)\n",
    "        all_posteriors_dict[name][num_prev_obs] = {\n",
    "            'val_post_samples': posterior_samples[:1000],\n",
    "            'val_true_p': true_p_eval[:1000]\n",
    "        }"
   ]
  },
  {
   "cell_type": "code",
   "execution_count": 47,
   "id": "8a86a0da-1d24-4848-b080-185ccff1709d",
   "metadata": {},
   "outputs": [],
   "source": [
    "# Load posterior samples from other models\n",
    "post_sample_models = ['seq_bb'] \n",
    "for name in post_sample_models:\n",
    "    \n",
    "    all_posteriors_dict[name] = {}\n",
    "    run_dir = model_paths[name]\n",
    "    post_samples = torch.load(run_dir + '/best_loss_posterior_samples.pt')\n",
    "    \n",
    "    for num_prev_obs in all_num_prev_obs:\n",
    "        tuplekey = (num_prev_obs, 500, 10000)\n",
    "        all_posteriors_dict[name][num_prev_obs] = {\n",
    "            'val_post_samples': post_samples[dataset][tuplekey]['post_samples'],\n",
    "            'val_true_p': true_p_eval[:1000]\n",
    "        }"
   ]
  },
  {
   "cell_type": "code",
   "execution_count": 49,
   "id": "6e00b6c6",
   "metadata": {},
   "outputs": [],
   "source": [
    "from eval_metrics_and_plotting import compare_posteriors, mean_abs_diff_from_mean, plot_scatter"
   ]
  },
  {
   "cell_type": "code",
   "execution_count": 52,
   "id": "ef628b34",
   "metadata": {},
   "outputs": [],
   "source": [
    "num_prev = 0"
   ]
  },
  {
   "cell_type": "code",
   "execution_count": 61,
   "id": "d1e9d441",
   "metadata": {},
   "outputs": [],
   "source": [
    "sample_draws = all_posteriors_dict['seq_bb'][num_prev]['val_post_samples'][:100,:10000]\n",
    "oracle_draws = all_posteriors_dict['Oracle'][num_prev]['val_post_samples'][:100,:10000]"
   ]
  },
  {
   "cell_type": "code",
   "execution_count": 64,
   "id": "7ec79415",
   "metadata": {},
   "outputs": [],
   "source": [
    "from util import make_plots_good\n",
    "make_plots_good()"
   ]
  },
  {
   "cell_type": "code",
   "execution_count": 66,
   "id": "75e4e3ef",
   "metadata": {},
   "outputs": [
    {
     "data": {
      "image/png": "[encoded data removed]",
      "text/plain": [
       "<Figure size 800x400 with 2 Axes>"
      ]
     },
     "metadata": {},
     "output_type": "display_data"
    }
   ],
   "source": [
    "figsize=(8,4)\n",
    "fig,ax = plt.subplots(1,2,figsize=figsize)\n",
    "s = 5\n",
    "metrics = {\n",
    "    'Mean': lambda x: x.mean(1),\n",
    "    'Mean |sample - mean|': lambda x: mean_abs_diff_from_mean(x).mean(1),\n",
    "}\n",
    "sd_metrics = {\n",
    "    'Mean': lambda x: x.std(1) / x.shape[1] ** 0.5,\n",
    "    'Mean |sample - mean|': lambda x: mean_abs_diff_from_mean(x).std(1) / x.shape[1] ** 0.5,\n",
    "}\n",
    "for i, (metric, fn) in enumerate(metrics.items()):\n",
    "    x = fn(sample_draws)\n",
    "    y = fn(oracle_draws)\n",
    "    plot_scatter(x, y, ax=ax[i], title=metric, s=s)  \n",
    "    if metric in sd_metrics.keys():\n",
    "        xerr = sd_metrics[metric](sample_draws)\n",
    "        yerr = sd_metrics[metric](oracle_draws)\n",
    "        ax[i].errorbar(x, y, xerr=xerr, yerr=yerr, fmt=\"none\", c='r', alpha=0.5)\n",
    "\n",
    "ax[0].set_title('Prior mean')\n",
    "ax[1].set_title('Prior width\\n(Mean Absolute Deviation)')\n",
    "xlabel = 'Learned Prior'\n",
    "for a in ax:\n",
    "    a.set_xlabel(xlabel)\n",
    "    a.set_ylabel('Oracle Prior')\n",
    "fig.tight_layout()"
   ]
  },
  {
   "cell_type": "code",
   "execution_count": null,
   "id": "757508ea-572a-4de2-a4f7-7329e51d1edd",
   "metadata": {},
   "outputs": [],
   "source": []
  }
 ],
 "metadata": {
  "kernelspec": {
   "display_name": "Python 3 (ipykernel)",
   "language": "python",
   "name": "python3"
  },
  "language_info": {
   "codemirror_mode": {
    "name": "ipython",
    "version": 3
   },
   "file_extension": ".py",
   "mimetype": "text/x-python",
   "name": "python",
   "nbconvert_exporter": "python",
   "pygments_lexer": "ipython3",
   "version": "3.11.5"
  }
 },
 "nbformat": 4,
 "nbformat_minor": 5
}
